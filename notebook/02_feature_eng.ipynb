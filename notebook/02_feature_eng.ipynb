{
 "cells": [
  {
   "cell_type": "markdown",
   "metadata": {},
   "source": [
    "## Prepare Data"
   ]
  },
  {
   "cell_type": "markdown",
   "metadata": {},
   "source": [
    "### Merge Data"
   ]
  },
  {
   "cell_type": "code",
   "execution_count": 62,
   "metadata": {},
   "outputs": [
    {
     "name": "stderr",
     "output_type": "stream",
     "text": [
      "100%|██████████| 13/13 [00:22<00:00,  1.75s/it]\n"
     ]
    }
   ],
   "source": [
    "from pathlib import Path\n",
    "import pandas as pd\n",
    "from tqdm import tqdm\n",
    "\n",
    "data_dir_path = '../data'\n",
    "data_dir = Path(data_dir_path)\n",
    "subdata_list = sorted(list(data_dir.glob('*')))\n",
    "\n",
    "final_df_list = []\n",
    "for subdata_dir in tqdm(subdata_list):\n",
    "    data_list = list(subdata_dir.glob('tng*.tsv'))\n",
    "\n",
    "    for data_path in data_list:\n",
    "        # read sensor data\n",
    "        df = pd.read_csv(data_path, sep='\\t')\n",
    "        df['date'] = df['datetime'].apply(lambda x: x.split('T')[0])\n",
    "        df = df[(df['flag_Gg_pyr']==0)][['date', 'Gg_pyr']].dropna().reset_index(drop=True)\n",
    "        \n",
    "        # Case: all flag is not 0\n",
    "        if len(df) > 0:\n",
    "            df.columns = ['date', 'GHI']\n",
    "            df = df.groupby('date').mean().reset_index()\n",
    "            df['station_id'] = data_path.stem.split('_')[0]\n",
    "\n",
    "            # read relative gee data\n",
    "            gee_data_path = Path('../gee_data') / f\"gee_{df.iloc[0]['date'][:-3]}.csv\"\n",
    "            gee_df = pd.read_csv(gee_data_path)\n",
    "\n",
    "            # merge dataframe\n",
    "            merge_df = df.merge(gee_df, how='left', on=['date', 'station_id'])\n",
    "            final_df_list.append(merge_df)"
   ]
  },
  {
   "cell_type": "code",
   "execution_count": 65,
   "metadata": {},
   "outputs": [],
   "source": [
    "final_df = pd.concat(final_df_list, ignore_index=True)\n",
    "final_df.to_csv('../data/final/final_data.csv', index=False)"
   ]
  }
 ],
 "metadata": {
  "kernelspec": {
   "display_name": "solsat_env",
   "language": "python",
   "name": "python3"
  },
  "language_info": {
   "codemirror_mode": {
    "name": "ipython",
    "version": 3
   },
   "file_extension": ".py",
   "mimetype": "text/x-python",
   "name": "python",
   "nbconvert_exporter": "python",
   "pygments_lexer": "ipython3",
   "version": "3.11.5"
  }
 },
 "nbformat": 4,
 "nbformat_minor": 2
}
